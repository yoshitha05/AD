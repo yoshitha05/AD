{
  "cells": [
    {
      "cell_type": "markdown",
      "metadata": {
        "id": "view-in-github",
        "colab_type": "text"
      },
      "source": [
        "<a href=\"https://colab.research.google.com/github/yoshitha05/AD/blob/main/SentimentAnalysis.ipynb\" target=\"_parent\"><img src=\"https://colab.research.google.com/assets/colab-badge.svg\" alt=\"Open In Colab\"/></a>"
      ]
    },
    {
      "cell_type": "code",
      "execution_count": null,
      "id": "715d7b6e",
      "metadata": {
        "id": "715d7b6e"
      },
      "outputs": [],
      "source": [
        "! pip install nltk"
      ]
    },
    {
      "cell_type": "markdown",
      "id": "abd18036",
      "metadata": {
        "id": "abd18036"
      },
      "source": [
        "## Import the data\n",
        "\n",
        "Link to data - https://www.kaggle.com/datasets/mdismielhossenabir/sentiment-analysis/data"
      ]
    },
    {
      "cell_type": "code",
      "execution_count": null,
      "id": "801ffc13",
      "metadata": {
        "id": "801ffc13"
      },
      "outputs": [],
      "source": [
        "import pandas as pd\n",
        "import numpy as np"
      ]
    },
    {
      "cell_type": "code",
      "execution_count": null,
      "id": "6a1cb38c",
      "metadata": {
        "id": "6a1cb38c"
      },
      "outputs": [],
      "source": [
        "df = pd.read_csv('sentiment_analysis.csv')"
      ]
    },
    {
      "cell_type": "code",
      "execution_count": null,
      "id": "11b96ce5",
      "metadata": {
        "id": "11b96ce5",
        "outputId": "fa59786b-a62b-4dd9-dee6-92978360dcbf"
      },
      "outputs": [
        {
          "data": {
            "text/html": [
              "<div>\n",
              "<style scoped>\n",
              "    .dataframe tbody tr th:only-of-type {\n",
              "        vertical-align: middle;\n",
              "    }\n",
              "\n",
              "    .dataframe tbody tr th {\n",
              "        vertical-align: top;\n",
              "    }\n",
              "\n",
              "    .dataframe thead th {\n",
              "        text-align: right;\n",
              "    }\n",
              "</style>\n",
              "<table border=\"1\" class=\"dataframe\">\n",
              "  <thead>\n",
              "    <tr style=\"text-align: right;\">\n",
              "      <th></th>\n",
              "      <th>Year</th>\n",
              "      <th>Month</th>\n",
              "      <th>Day</th>\n",
              "      <th>Time of Tweet</th>\n",
              "      <th>text</th>\n",
              "      <th>sentiment</th>\n",
              "      <th>Platform</th>\n",
              "    </tr>\n",
              "  </thead>\n",
              "  <tbody>\n",
              "    <tr>\n",
              "      <th>0</th>\n",
              "      <td>2018</td>\n",
              "      <td>8</td>\n",
              "      <td>18</td>\n",
              "      <td>morning</td>\n",
              "      <td>What a great day!!! Looks like dream.</td>\n",
              "      <td>positive</td>\n",
              "      <td>Twitter</td>\n",
              "    </tr>\n",
              "    <tr>\n",
              "      <th>1</th>\n",
              "      <td>2018</td>\n",
              "      <td>8</td>\n",
              "      <td>18</td>\n",
              "      <td>noon</td>\n",
              "      <td>I feel sorry, I miss you here in the sea beach</td>\n",
              "      <td>positive</td>\n",
              "      <td>Facebook</td>\n",
              "    </tr>\n",
              "    <tr>\n",
              "      <th>2</th>\n",
              "      <td>2017</td>\n",
              "      <td>8</td>\n",
              "      <td>18</td>\n",
              "      <td>night</td>\n",
              "      <td>Don't angry me</td>\n",
              "      <td>negative</td>\n",
              "      <td>Facebook</td>\n",
              "    </tr>\n",
              "    <tr>\n",
              "      <th>3</th>\n",
              "      <td>2022</td>\n",
              "      <td>6</td>\n",
              "      <td>8</td>\n",
              "      <td>morning</td>\n",
              "      <td>We attend in the class just for listening teac...</td>\n",
              "      <td>negative</td>\n",
              "      <td>Facebook</td>\n",
              "    </tr>\n",
              "    <tr>\n",
              "      <th>4</th>\n",
              "      <td>2022</td>\n",
              "      <td>6</td>\n",
              "      <td>8</td>\n",
              "      <td>noon</td>\n",
              "      <td>Those who want to go, let them go</td>\n",
              "      <td>negative</td>\n",
              "      <td>Instagram</td>\n",
              "    </tr>\n",
              "    <tr>\n",
              "      <th>...</th>\n",
              "      <td>...</td>\n",
              "      <td>...</td>\n",
              "      <td>...</td>\n",
              "      <td>...</td>\n",
              "      <td>...</td>\n",
              "      <td>...</td>\n",
              "      <td>...</td>\n",
              "    </tr>\n",
              "    <tr>\n",
              "      <th>494</th>\n",
              "      <td>2015</td>\n",
              "      <td>10</td>\n",
              "      <td>18</td>\n",
              "      <td>night</td>\n",
              "      <td>According to , a quarter of families under six...</td>\n",
              "      <td>negative</td>\n",
              "      <td>Twitter</td>\n",
              "    </tr>\n",
              "    <tr>\n",
              "      <th>495</th>\n",
              "      <td>2021</td>\n",
              "      <td>2</td>\n",
              "      <td>25</td>\n",
              "      <td>morning</td>\n",
              "      <td>the plan to not spend money is not going well</td>\n",
              "      <td>negative</td>\n",
              "      <td>Instagram</td>\n",
              "    </tr>\n",
              "    <tr>\n",
              "      <th>496</th>\n",
              "      <td>2022</td>\n",
              "      <td>5</td>\n",
              "      <td>30</td>\n",
              "      <td>noon</td>\n",
              "      <td>uploading all my bamboozle pictures of facebook</td>\n",
              "      <td>neutral</td>\n",
              "      <td>Facebook</td>\n",
              "    </tr>\n",
              "    <tr>\n",
              "      <th>497</th>\n",
              "      <td>2018</td>\n",
              "      <td>8</td>\n",
              "      <td>10</td>\n",
              "      <td>night</td>\n",
              "      <td>congratulations ! you guys finish a month ear...</td>\n",
              "      <td>positive</td>\n",
              "      <td>Twitter</td>\n",
              "    </tr>\n",
              "    <tr>\n",
              "      <th>498</th>\n",
              "      <td>2019</td>\n",
              "      <td>3</td>\n",
              "      <td>25</td>\n",
              "      <td>morning</td>\n",
              "      <td>actually, I wish I was back in Tahoe.  I miss...</td>\n",
              "      <td>negative</td>\n",
              "      <td>Instagram</td>\n",
              "    </tr>\n",
              "  </tbody>\n",
              "</table>\n",
              "<p>499 rows × 7 columns</p>\n",
              "</div>"
            ],
            "text/plain": [
              "     Year  Month  Day Time of Tweet  \\\n",
              "0    2018      8   18       morning   \n",
              "1    2018      8   18          noon   \n",
              "2    2017      8   18         night   \n",
              "3    2022      6    8       morning   \n",
              "4    2022      6    8          noon   \n",
              "..    ...    ...  ...           ...   \n",
              "494  2015     10   18         night   \n",
              "495  2021      2   25       morning   \n",
              "496  2022      5   30          noon   \n",
              "497  2018      8   10         night   \n",
              "498  2019      3   25       morning   \n",
              "\n",
              "                                                  text sentiment     Platform  \n",
              "0                What a great day!!! Looks like dream.  positive    Twitter    \n",
              "1       I feel sorry, I miss you here in the sea beach  positive    Facebook   \n",
              "2                                       Don't angry me  negative     Facebook  \n",
              "3    We attend in the class just for listening teac...  negative    Facebook   \n",
              "4                    Those who want to go, let them go  negative   Instagram   \n",
              "..                                                 ...       ...          ...  \n",
              "494  According to , a quarter of families under six...  negative     Twitter   \n",
              "495      the plan to not spend money is not going well  negative   Instagram   \n",
              "496    uploading all my bamboozle pictures of facebook   neutral    Facebook   \n",
              "497   congratulations ! you guys finish a month ear...  positive     Twitter   \n",
              "498   actually, I wish I was back in Tahoe.  I miss...  negative   Instagram   \n",
              "\n",
              "[499 rows x 7 columns]"
            ]
          },
          "execution_count": 3,
          "metadata": {},
          "output_type": "execute_result"
        }
      ],
      "source": [
        "df"
      ]
    },
    {
      "cell_type": "code",
      "execution_count": null,
      "id": "d961eafa",
      "metadata": {
        "id": "d961eafa",
        "outputId": "37f50530-21c5-4eda-c89f-64265ac3e1f6"
      },
      "outputs": [
        {
          "data": {
            "text/plain": [
              "array(['positive', 'negative', 'neutral'], dtype=object)"
            ]
          },
          "execution_count": 4,
          "metadata": {},
          "output_type": "execute_result"
        }
      ],
      "source": [
        "df['sentiment'].unique()"
      ]
    },
    {
      "cell_type": "code",
      "execution_count": null,
      "id": "935beefc",
      "metadata": {
        "id": "935beefc",
        "outputId": "4a5cb8f9-a307-4807-e408-0bdfaf5539a4"
      },
      "outputs": [
        {
          "data": {
            "text/plain": [
              "neutral     199\n",
              "positive    166\n",
              "negative    134\n",
              "Name: sentiment, dtype: int64"
            ]
          },
          "execution_count": 5,
          "metadata": {},
          "output_type": "execute_result"
        }
      ],
      "source": [
        "df['sentiment'].value_counts()"
      ]
    },
    {
      "cell_type": "code",
      "execution_count": null,
      "id": "bd4d2df9",
      "metadata": {
        "id": "bd4d2df9"
      },
      "outputs": [],
      "source": [
        "df = df[['text','sentiment']]"
      ]
    },
    {
      "cell_type": "code",
      "execution_count": null,
      "id": "61336e8a",
      "metadata": {
        "id": "61336e8a",
        "outputId": "b9891c89-50d1-4683-9d53-2fb3ef6f35e5"
      },
      "outputs": [
        {
          "data": {
            "text/html": [
              "<div>\n",
              "<style scoped>\n",
              "    .dataframe tbody tr th:only-of-type {\n",
              "        vertical-align: middle;\n",
              "    }\n",
              "\n",
              "    .dataframe tbody tr th {\n",
              "        vertical-align: top;\n",
              "    }\n",
              "\n",
              "    .dataframe thead th {\n",
              "        text-align: right;\n",
              "    }\n",
              "</style>\n",
              "<table border=\"1\" class=\"dataframe\">\n",
              "  <thead>\n",
              "    <tr style=\"text-align: right;\">\n",
              "      <th></th>\n",
              "      <th>text</th>\n",
              "      <th>sentiment</th>\n",
              "    </tr>\n",
              "  </thead>\n",
              "  <tbody>\n",
              "    <tr>\n",
              "      <th>0</th>\n",
              "      <td>What a great day!!! Looks like dream.</td>\n",
              "      <td>positive</td>\n",
              "    </tr>\n",
              "    <tr>\n",
              "      <th>1</th>\n",
              "      <td>I feel sorry, I miss you here in the sea beach</td>\n",
              "      <td>positive</td>\n",
              "    </tr>\n",
              "    <tr>\n",
              "      <th>2</th>\n",
              "      <td>Don't angry me</td>\n",
              "      <td>negative</td>\n",
              "    </tr>\n",
              "    <tr>\n",
              "      <th>3</th>\n",
              "      <td>We attend in the class just for listening teac...</td>\n",
              "      <td>negative</td>\n",
              "    </tr>\n",
              "    <tr>\n",
              "      <th>4</th>\n",
              "      <td>Those who want to go, let them go</td>\n",
              "      <td>negative</td>\n",
              "    </tr>\n",
              "    <tr>\n",
              "      <th>...</th>\n",
              "      <td>...</td>\n",
              "      <td>...</td>\n",
              "    </tr>\n",
              "    <tr>\n",
              "      <th>494</th>\n",
              "      <td>According to , a quarter of families under six...</td>\n",
              "      <td>negative</td>\n",
              "    </tr>\n",
              "    <tr>\n",
              "      <th>495</th>\n",
              "      <td>the plan to not spend money is not going well</td>\n",
              "      <td>negative</td>\n",
              "    </tr>\n",
              "    <tr>\n",
              "      <th>496</th>\n",
              "      <td>uploading all my bamboozle pictures of facebook</td>\n",
              "      <td>neutral</td>\n",
              "    </tr>\n",
              "    <tr>\n",
              "      <th>497</th>\n",
              "      <td>congratulations ! you guys finish a month ear...</td>\n",
              "      <td>positive</td>\n",
              "    </tr>\n",
              "    <tr>\n",
              "      <th>498</th>\n",
              "      <td>actually, I wish I was back in Tahoe.  I miss...</td>\n",
              "      <td>negative</td>\n",
              "    </tr>\n",
              "  </tbody>\n",
              "</table>\n",
              "<p>499 rows × 2 columns</p>\n",
              "</div>"
            ],
            "text/plain": [
              "                                                  text sentiment\n",
              "0                What a great day!!! Looks like dream.  positive\n",
              "1       I feel sorry, I miss you here in the sea beach  positive\n",
              "2                                       Don't angry me  negative\n",
              "3    We attend in the class just for listening teac...  negative\n",
              "4                    Those who want to go, let them go  negative\n",
              "..                                                 ...       ...\n",
              "494  According to , a quarter of families under six...  negative\n",
              "495      the plan to not spend money is not going well  negative\n",
              "496    uploading all my bamboozle pictures of facebook   neutral\n",
              "497   congratulations ! you guys finish a month ear...  positive\n",
              "498   actually, I wish I was back in Tahoe.  I miss...  negative\n",
              "\n",
              "[499 rows x 2 columns]"
            ]
          },
          "execution_count": 7,
          "metadata": {},
          "output_type": "execute_result"
        }
      ],
      "source": [
        "df"
      ]
    },
    {
      "cell_type": "markdown",
      "id": "7d547cd5",
      "metadata": {
        "id": "7d547cd5"
      },
      "source": [
        "## using Vader and SIA"
      ]
    },
    {
      "cell_type": "code",
      "execution_count": null,
      "id": "2aedca96",
      "metadata": {
        "id": "2aedca96"
      },
      "outputs": [],
      "source": [
        "import nltk\n",
        "from datasets import load_dataset\n",
        "from nltk.sentiment import SentimentIntensityAnalyzer\n",
        "\n",
        "sia = SentimentIntensityAnalyzer()"
      ]
    },
    {
      "cell_type": "code",
      "execution_count": null,
      "id": "ef86e5de",
      "metadata": {
        "id": "ef86e5de",
        "outputId": "4cea97b2-27e1-434d-c7d1-b7cc21be3e38"
      },
      "outputs": [
        {
          "name": "stderr",
          "output_type": "stream",
          "text": [
            "[nltk_data] Downloading package vader_lexicon to\n",
            "[nltk_data]     C:\\Users\\1034590\\AppData\\Roaming\\nltk_data...\n",
            "[nltk_data]   Package vader_lexicon is already up-to-date!\n"
          ]
        },
        {
          "data": {
            "text/plain": [
              "True"
            ]
          },
          "execution_count": 9,
          "metadata": {},
          "output_type": "execute_result"
        }
      ],
      "source": [
        "nltk.download('vader_lexicon')"
      ]
    },
    {
      "cell_type": "markdown",
      "id": "840f15f9",
      "metadata": {
        "id": "840f15f9"
      },
      "source": [
        "### Understanding SIA"
      ]
    },
    {
      "cell_type": "code",
      "execution_count": null,
      "id": "ddbd7d7a",
      "metadata": {
        "id": "ddbd7d7a",
        "outputId": "70c9a58c-8cdf-46cc-e382-b1ac289b5c6b"
      },
      "outputs": [
        {
          "name": "stdout",
          "output_type": "stream",
          "text": [
            "{'neg': 0.293, 'neu': 0.544, 'pos': 0.163, 'compound': -0.4404}\n"
          ]
        }
      ],
      "source": [
        "sentence = \"This movie was amazing, but the acting was a bit disappointing.\"\n",
        "sentiment_scores = sia.polarity_scores(sentence)\n",
        "print(sentiment_scores)"
      ]
    },
    {
      "cell_type": "code",
      "execution_count": null,
      "id": "7f6f96fe",
      "metadata": {
        "id": "7f6f96fe"
      },
      "outputs": [],
      "source": [
        "def analyze_sentiment_nltk(review):\n",
        "    score = sia.polarity_scores(review)\n",
        "    final_score = score['compound']\n",
        "    if final_score > 0.4:\n",
        "        return 'positive'\n",
        "    elif final_score >= -0.3 and final_score <= 0.4:\n",
        "        return 'neutral'\n",
        "    else :\n",
        "        return 'negative'"
      ]
    },
    {
      "cell_type": "code",
      "execution_count": null,
      "id": "e6e12854",
      "metadata": {
        "id": "e6e12854",
        "outputId": "72c2626e-21f3-4332-cc6d-891c36167ce5"
      },
      "outputs": [
        {
          "name": "stderr",
          "output_type": "stream",
          "text": [
            "C:\\Users\\1034590\\AppData\\Local\\Temp\\ipykernel_19600\\855690513.py:1: SettingWithCopyWarning: \n",
            "A value is trying to be set on a copy of a slice from a DataFrame.\n",
            "Try using .loc[row_indexer,col_indexer] = value instead\n",
            "\n",
            "See the caveats in the documentation: https://pandas.pydata.org/pandas-docs/stable/user_guide/indexing.html#returning-a-view-versus-a-copy\n",
            "  df['predicted_sentiment_nltk'] = df['text'].apply(analyze_sentiment_nltk)\n"
          ]
        }
      ],
      "source": [
        "df['predicted_sentiment_nltk'] = df['text'].apply(analyze_sentiment_nltk)\n"
      ]
    },
    {
      "cell_type": "code",
      "execution_count": null,
      "id": "7bcbddf6",
      "metadata": {
        "id": "7bcbddf6",
        "outputId": "b339f648-e738-4628-83a7-46abf1cb7142"
      },
      "outputs": [
        {
          "data": {
            "text/html": [
              "<div>\n",
              "<style scoped>\n",
              "    .dataframe tbody tr th:only-of-type {\n",
              "        vertical-align: middle;\n",
              "    }\n",
              "\n",
              "    .dataframe tbody tr th {\n",
              "        vertical-align: top;\n",
              "    }\n",
              "\n",
              "    .dataframe thead th {\n",
              "        text-align: right;\n",
              "    }\n",
              "</style>\n",
              "<table border=\"1\" class=\"dataframe\">\n",
              "  <thead>\n",
              "    <tr style=\"text-align: right;\">\n",
              "      <th></th>\n",
              "      <th>text</th>\n",
              "      <th>sentiment</th>\n",
              "      <th>predicted_sentiment_nltk</th>\n",
              "    </tr>\n",
              "  </thead>\n",
              "  <tbody>\n",
              "    <tr>\n",
              "      <th>0</th>\n",
              "      <td>What a great day!!! Looks like dream.</td>\n",
              "      <td>positive</td>\n",
              "      <td>positive</td>\n",
              "    </tr>\n",
              "    <tr>\n",
              "      <th>1</th>\n",
              "      <td>I feel sorry, I miss you here in the sea beach</td>\n",
              "      <td>positive</td>\n",
              "      <td>neutral</td>\n",
              "    </tr>\n",
              "    <tr>\n",
              "      <th>2</th>\n",
              "      <td>Don't angry me</td>\n",
              "      <td>negative</td>\n",
              "      <td>positive</td>\n",
              "    </tr>\n",
              "    <tr>\n",
              "      <th>3</th>\n",
              "      <td>We attend in the class just for listening teac...</td>\n",
              "      <td>negative</td>\n",
              "      <td>neutral</td>\n",
              "    </tr>\n",
              "    <tr>\n",
              "      <th>4</th>\n",
              "      <td>Those who want to go, let them go</td>\n",
              "      <td>negative</td>\n",
              "      <td>neutral</td>\n",
              "    </tr>\n",
              "    <tr>\n",
              "      <th>...</th>\n",
              "      <td>...</td>\n",
              "      <td>...</td>\n",
              "      <td>...</td>\n",
              "    </tr>\n",
              "    <tr>\n",
              "      <th>494</th>\n",
              "      <td>According to , a quarter of families under six...</td>\n",
              "      <td>negative</td>\n",
              "      <td>negative</td>\n",
              "    </tr>\n",
              "    <tr>\n",
              "      <th>495</th>\n",
              "      <td>the plan to not spend money is not going well</td>\n",
              "      <td>negative</td>\n",
              "      <td>neutral</td>\n",
              "    </tr>\n",
              "    <tr>\n",
              "      <th>496</th>\n",
              "      <td>uploading all my bamboozle pictures of facebook</td>\n",
              "      <td>neutral</td>\n",
              "      <td>negative</td>\n",
              "    </tr>\n",
              "    <tr>\n",
              "      <th>497</th>\n",
              "      <td>congratulations ! you guys finish a month ear...</td>\n",
              "      <td>positive</td>\n",
              "      <td>positive</td>\n",
              "    </tr>\n",
              "    <tr>\n",
              "      <th>498</th>\n",
              "      <td>actually, I wish I was back in Tahoe.  I miss...</td>\n",
              "      <td>negative</td>\n",
              "      <td>neutral</td>\n",
              "    </tr>\n",
              "  </tbody>\n",
              "</table>\n",
              "<p>499 rows × 3 columns</p>\n",
              "</div>"
            ],
            "text/plain": [
              "                                                  text sentiment  \\\n",
              "0                What a great day!!! Looks like dream.  positive   \n",
              "1       I feel sorry, I miss you here in the sea beach  positive   \n",
              "2                                       Don't angry me  negative   \n",
              "3    We attend in the class just for listening teac...  negative   \n",
              "4                    Those who want to go, let them go  negative   \n",
              "..                                                 ...       ...   \n",
              "494  According to , a quarter of families under six...  negative   \n",
              "495      the plan to not spend money is not going well  negative   \n",
              "496    uploading all my bamboozle pictures of facebook   neutral   \n",
              "497   congratulations ! you guys finish a month ear...  positive   \n",
              "498   actually, I wish I was back in Tahoe.  I miss...  negative   \n",
              "\n",
              "    predicted_sentiment_nltk  \n",
              "0                   positive  \n",
              "1                    neutral  \n",
              "2                   positive  \n",
              "3                    neutral  \n",
              "4                    neutral  \n",
              "..                       ...  \n",
              "494                 negative  \n",
              "495                  neutral  \n",
              "496                 negative  \n",
              "497                 positive  \n",
              "498                  neutral  \n",
              "\n",
              "[499 rows x 3 columns]"
            ]
          },
          "execution_count": 13,
          "metadata": {},
          "output_type": "execute_result"
        }
      ],
      "source": [
        "df"
      ]
    },
    {
      "cell_type": "code",
      "execution_count": null,
      "id": "b287f302",
      "metadata": {
        "scrolled": true,
        "id": "b287f302",
        "outputId": "2684e895-fcd6-4dcc-fe26-bdd126794082"
      },
      "outputs": [
        {
          "name": "stderr",
          "output_type": "stream",
          "text": [
            "C:\\Users\\1034590\\AppData\\Local\\Temp\\ipykernel_19600\\1528029338.py:1: SettingWithCopyWarning: \n",
            "A value is trying to be set on a copy of a slice from a DataFrame.\n",
            "Try using .loc[row_indexer,col_indexer] = value instead\n",
            "\n",
            "See the caveats in the documentation: https://pandas.pydata.org/pandas-docs/stable/user_guide/indexing.html#returning-a-view-versus-a-copy\n",
            "  df['prediction_correctness_nltk'] = np.where(df['sentiment']==df['predicted_sentiment_nltk'],1,0)\n"
          ]
        }
      ],
      "source": [
        "df['prediction_correctness_nltk'] = np.where(df['sentiment']==df['predicted_sentiment_nltk'],1,0)"
      ]
    },
    {
      "cell_type": "code",
      "execution_count": null,
      "id": "fddd2927",
      "metadata": {
        "id": "fddd2927",
        "outputId": "45514474-ab93-4a0b-b9c2-d7ac38c37454"
      },
      "outputs": [
        {
          "data": {
            "text/html": [
              "<div>\n",
              "<style scoped>\n",
              "    .dataframe tbody tr th:only-of-type {\n",
              "        vertical-align: middle;\n",
              "    }\n",
              "\n",
              "    .dataframe tbody tr th {\n",
              "        vertical-align: top;\n",
              "    }\n",
              "\n",
              "    .dataframe thead th {\n",
              "        text-align: right;\n",
              "    }\n",
              "</style>\n",
              "<table border=\"1\" class=\"dataframe\">\n",
              "  <thead>\n",
              "    <tr style=\"text-align: right;\">\n",
              "      <th></th>\n",
              "      <th>text</th>\n",
              "      <th>sentiment</th>\n",
              "      <th>predicted_sentiment_nltk</th>\n",
              "      <th>prediction_correctness_nltk</th>\n",
              "    </tr>\n",
              "  </thead>\n",
              "  <tbody>\n",
              "    <tr>\n",
              "      <th>0</th>\n",
              "      <td>What a great day!!! Looks like dream.</td>\n",
              "      <td>positive</td>\n",
              "      <td>positive</td>\n",
              "      <td>1</td>\n",
              "    </tr>\n",
              "    <tr>\n",
              "      <th>1</th>\n",
              "      <td>I feel sorry, I miss you here in the sea beach</td>\n",
              "      <td>positive</td>\n",
              "      <td>neutral</td>\n",
              "      <td>0</td>\n",
              "    </tr>\n",
              "    <tr>\n",
              "      <th>2</th>\n",
              "      <td>Don't angry me</td>\n",
              "      <td>negative</td>\n",
              "      <td>positive</td>\n",
              "      <td>0</td>\n",
              "    </tr>\n",
              "    <tr>\n",
              "      <th>3</th>\n",
              "      <td>We attend in the class just for listening teac...</td>\n",
              "      <td>negative</td>\n",
              "      <td>neutral</td>\n",
              "      <td>0</td>\n",
              "    </tr>\n",
              "    <tr>\n",
              "      <th>4</th>\n",
              "      <td>Those who want to go, let them go</td>\n",
              "      <td>negative</td>\n",
              "      <td>neutral</td>\n",
              "      <td>0</td>\n",
              "    </tr>\n",
              "    <tr>\n",
              "      <th>...</th>\n",
              "      <td>...</td>\n",
              "      <td>...</td>\n",
              "      <td>...</td>\n",
              "      <td>...</td>\n",
              "    </tr>\n",
              "    <tr>\n",
              "      <th>494</th>\n",
              "      <td>According to , a quarter of families under six...</td>\n",
              "      <td>negative</td>\n",
              "      <td>negative</td>\n",
              "      <td>1</td>\n",
              "    </tr>\n",
              "    <tr>\n",
              "      <th>495</th>\n",
              "      <td>the plan to not spend money is not going well</td>\n",
              "      <td>negative</td>\n",
              "      <td>neutral</td>\n",
              "      <td>0</td>\n",
              "    </tr>\n",
              "    <tr>\n",
              "      <th>496</th>\n",
              "      <td>uploading all my bamboozle pictures of facebook</td>\n",
              "      <td>neutral</td>\n",
              "      <td>negative</td>\n",
              "      <td>0</td>\n",
              "    </tr>\n",
              "    <tr>\n",
              "      <th>497</th>\n",
              "      <td>congratulations ! you guys finish a month ear...</td>\n",
              "      <td>positive</td>\n",
              "      <td>positive</td>\n",
              "      <td>1</td>\n",
              "    </tr>\n",
              "    <tr>\n",
              "      <th>498</th>\n",
              "      <td>actually, I wish I was back in Tahoe.  I miss...</td>\n",
              "      <td>negative</td>\n",
              "      <td>neutral</td>\n",
              "      <td>0</td>\n",
              "    </tr>\n",
              "  </tbody>\n",
              "</table>\n",
              "<p>499 rows × 4 columns</p>\n",
              "</div>"
            ],
            "text/plain": [
              "                                                  text sentiment  \\\n",
              "0                What a great day!!! Looks like dream.  positive   \n",
              "1       I feel sorry, I miss you here in the sea beach  positive   \n",
              "2                                       Don't angry me  negative   \n",
              "3    We attend in the class just for listening teac...  negative   \n",
              "4                    Those who want to go, let them go  negative   \n",
              "..                                                 ...       ...   \n",
              "494  According to , a quarter of families under six...  negative   \n",
              "495      the plan to not spend money is not going well  negative   \n",
              "496    uploading all my bamboozle pictures of facebook   neutral   \n",
              "497   congratulations ! you guys finish a month ear...  positive   \n",
              "498   actually, I wish I was back in Tahoe.  I miss...  negative   \n",
              "\n",
              "    predicted_sentiment_nltk  prediction_correctness_nltk  \n",
              "0                   positive                            1  \n",
              "1                    neutral                            0  \n",
              "2                   positive                            0  \n",
              "3                    neutral                            0  \n",
              "4                    neutral                            0  \n",
              "..                       ...                          ...  \n",
              "494                 negative                            1  \n",
              "495                  neutral                            0  \n",
              "496                 negative                            0  \n",
              "497                 positive                            1  \n",
              "498                  neutral                            0  \n",
              "\n",
              "[499 rows x 4 columns]"
            ]
          },
          "execution_count": 15,
          "metadata": {},
          "output_type": "execute_result"
        }
      ],
      "source": [
        "df"
      ]
    },
    {
      "cell_type": "code",
      "execution_count": null,
      "id": "083b699b",
      "metadata": {
        "id": "083b699b",
        "outputId": "401ee249-51ff-4dd9-d570-4211ce39f5ae"
      },
      "outputs": [
        {
          "data": {
            "text/plain": [
              "1    323\n",
              "0    176\n",
              "Name: prediction_correctness_nltk, dtype: int64"
            ]
          },
          "execution_count": 17,
          "metadata": {},
          "output_type": "execute_result"
        }
      ],
      "source": [
        "df['prediction_correctness_nltk'].value_counts()"
      ]
    },
    {
      "cell_type": "code",
      "execution_count": null,
      "id": "b52ffa6f",
      "metadata": {
        "id": "b52ffa6f"
      },
      "outputs": [],
      "source": []
    },
    {
      "cell_type": "code",
      "execution_count": null,
      "id": "3cc24a14",
      "metadata": {
        "id": "3cc24a14"
      },
      "outputs": [],
      "source": []
    },
    {
      "cell_type": "markdown",
      "id": "a440777a",
      "metadata": {
        "id": "a440777a"
      },
      "source": [
        "## Using textblob"
      ]
    },
    {
      "cell_type": "code",
      "execution_count": null,
      "id": "1a4be0a8",
      "metadata": {
        "id": "1a4be0a8"
      },
      "outputs": [],
      "source": [
        "! pip install textblob"
      ]
    },
    {
      "cell_type": "code",
      "execution_count": null,
      "id": "f0013270",
      "metadata": {
        "id": "f0013270"
      },
      "outputs": [],
      "source": [
        "from textblob import TextBlob\n"
      ]
    },
    {
      "cell_type": "code",
      "execution_count": null,
      "id": "e5dd5e13",
      "metadata": {
        "id": "e5dd5e13"
      },
      "outputs": [],
      "source": [
        "def analyze_sentiment_textblob(review):\n",
        "    blob = TextBlob(review)\n",
        "    if blob.sentiment.polarity >= 0.4:\n",
        "        return 'positive'\n",
        "    elif blob.sentiment.polarity >= -0.3 and blob.sentiment.polarity <= 0.4:\n",
        "        return 'neutral'\n",
        "    else :\n",
        "        return 'negative'"
      ]
    },
    {
      "cell_type": "code",
      "execution_count": null,
      "id": "0473d94e",
      "metadata": {
        "id": "0473d94e",
        "outputId": "b45112eb-afd7-4e63-ad00-ead42503db8c"
      },
      "outputs": [
        {
          "data": {
            "text/plain": [
              "'positive'"
            ]
          },
          "execution_count": 20,
          "metadata": {},
          "output_type": "execute_result"
        }
      ],
      "source": [
        "analyze_sentiment_textblob('This is a good movie')"
      ]
    },
    {
      "cell_type": "code",
      "execution_count": null,
      "id": "d471dad8",
      "metadata": {
        "id": "d471dad8",
        "outputId": "a2009d13-43a1-4dc8-dbd1-e53609060300"
      },
      "outputs": [
        {
          "name": "stderr",
          "output_type": "stream",
          "text": [
            "C:\\Users\\1034590\\AppData\\Local\\Temp\\ipykernel_19600\\3547837887.py:1: SettingWithCopyWarning: \n",
            "A value is trying to be set on a copy of a slice from a DataFrame.\n",
            "Try using .loc[row_indexer,col_indexer] = value instead\n",
            "\n",
            "See the caveats in the documentation: https://pandas.pydata.org/pandas-docs/stable/user_guide/indexing.html#returning-a-view-versus-a-copy\n",
            "  df['predicted_sentiment_textblob'] = df['text'].apply(analyze_sentiment_textblob)\n"
          ]
        }
      ],
      "source": [
        "df['predicted_sentiment_textblob'] = df['text'].apply(analyze_sentiment_textblob)"
      ]
    },
    {
      "cell_type": "code",
      "execution_count": null,
      "id": "4ab6d3cb",
      "metadata": {
        "id": "4ab6d3cb",
        "outputId": "dec88ca3-0b66-4a36-cff4-5f21a73f760b"
      },
      "outputs": [
        {
          "name": "stderr",
          "output_type": "stream",
          "text": [
            "C:\\Users\\1034590\\AppData\\Local\\Temp\\ipykernel_19600\\4004997036.py:1: SettingWithCopyWarning: \n",
            "A value is trying to be set on a copy of a slice from a DataFrame.\n",
            "Try using .loc[row_indexer,col_indexer] = value instead\n",
            "\n",
            "See the caveats in the documentation: https://pandas.pydata.org/pandas-docs/stable/user_guide/indexing.html#returning-a-view-versus-a-copy\n",
            "  df['prediction_correctness_textblob'] = np.where(df['sentiment']==df['predicted_sentiment_textblob'],1,0)\n"
          ]
        }
      ],
      "source": [
        "df['prediction_correctness_textblob'] = np.where(df['sentiment']==df['predicted_sentiment_textblob'],1,0)"
      ]
    },
    {
      "cell_type": "code",
      "execution_count": null,
      "id": "1ab4fa6c",
      "metadata": {
        "id": "1ab4fa6c",
        "outputId": "f162ac8b-d579-4065-f1c5-c52cbdb2b1d1"
      },
      "outputs": [
        {
          "data": {
            "text/html": [
              "<div>\n",
              "<style scoped>\n",
              "    .dataframe tbody tr th:only-of-type {\n",
              "        vertical-align: middle;\n",
              "    }\n",
              "\n",
              "    .dataframe tbody tr th {\n",
              "        vertical-align: top;\n",
              "    }\n",
              "\n",
              "    .dataframe thead th {\n",
              "        text-align: right;\n",
              "    }\n",
              "</style>\n",
              "<table border=\"1\" class=\"dataframe\">\n",
              "  <thead>\n",
              "    <tr style=\"text-align: right;\">\n",
              "      <th></th>\n",
              "      <th>text</th>\n",
              "      <th>sentiment</th>\n",
              "      <th>predicted_sentiment_nltk</th>\n",
              "      <th>prediction_correctness_nltk</th>\n",
              "      <th>predicted_sentiment_textblob</th>\n",
              "      <th>prediction_correctness_textblob</th>\n",
              "    </tr>\n",
              "  </thead>\n",
              "  <tbody>\n",
              "    <tr>\n",
              "      <th>0</th>\n",
              "      <td>What a great day!!! Looks like dream.</td>\n",
              "      <td>positive</td>\n",
              "      <td>positive</td>\n",
              "      <td>1</td>\n",
              "      <td>positive</td>\n",
              "      <td>1</td>\n",
              "    </tr>\n",
              "    <tr>\n",
              "      <th>1</th>\n",
              "      <td>I feel sorry, I miss you here in the sea beach</td>\n",
              "      <td>positive</td>\n",
              "      <td>neutral</td>\n",
              "      <td>0</td>\n",
              "      <td>negative</td>\n",
              "      <td>0</td>\n",
              "    </tr>\n",
              "    <tr>\n",
              "      <th>2</th>\n",
              "      <td>Don't angry me</td>\n",
              "      <td>negative</td>\n",
              "      <td>positive</td>\n",
              "      <td>0</td>\n",
              "      <td>negative</td>\n",
              "      <td>1</td>\n",
              "    </tr>\n",
              "    <tr>\n",
              "      <th>3</th>\n",
              "      <td>We attend in the class just for listening teac...</td>\n",
              "      <td>negative</td>\n",
              "      <td>neutral</td>\n",
              "      <td>0</td>\n",
              "      <td>neutral</td>\n",
              "      <td>0</td>\n",
              "    </tr>\n",
              "    <tr>\n",
              "      <th>4</th>\n",
              "      <td>Those who want to go, let them go</td>\n",
              "      <td>negative</td>\n",
              "      <td>neutral</td>\n",
              "      <td>0</td>\n",
              "      <td>neutral</td>\n",
              "      <td>0</td>\n",
              "    </tr>\n",
              "    <tr>\n",
              "      <th>...</th>\n",
              "      <td>...</td>\n",
              "      <td>...</td>\n",
              "      <td>...</td>\n",
              "      <td>...</td>\n",
              "      <td>...</td>\n",
              "      <td>...</td>\n",
              "    </tr>\n",
              "    <tr>\n",
              "      <th>494</th>\n",
              "      <td>According to , a quarter of families under six...</td>\n",
              "      <td>negative</td>\n",
              "      <td>negative</td>\n",
              "      <td>1</td>\n",
              "      <td>neutral</td>\n",
              "      <td>0</td>\n",
              "    </tr>\n",
              "    <tr>\n",
              "      <th>495</th>\n",
              "      <td>the plan to not spend money is not going well</td>\n",
              "      <td>negative</td>\n",
              "      <td>neutral</td>\n",
              "      <td>0</td>\n",
              "      <td>neutral</td>\n",
              "      <td>0</td>\n",
              "    </tr>\n",
              "    <tr>\n",
              "      <th>496</th>\n",
              "      <td>uploading all my bamboozle pictures of facebook</td>\n",
              "      <td>neutral</td>\n",
              "      <td>negative</td>\n",
              "      <td>0</td>\n",
              "      <td>neutral</td>\n",
              "      <td>1</td>\n",
              "    </tr>\n",
              "    <tr>\n",
              "      <th>497</th>\n",
              "      <td>congratulations ! you guys finish a month ear...</td>\n",
              "      <td>positive</td>\n",
              "      <td>positive</td>\n",
              "      <td>1</td>\n",
              "      <td>neutral</td>\n",
              "      <td>0</td>\n",
              "    </tr>\n",
              "    <tr>\n",
              "      <th>498</th>\n",
              "      <td>actually, I wish I was back in Tahoe.  I miss...</td>\n",
              "      <td>negative</td>\n",
              "      <td>neutral</td>\n",
              "      <td>0</td>\n",
              "      <td>neutral</td>\n",
              "      <td>0</td>\n",
              "    </tr>\n",
              "  </tbody>\n",
              "</table>\n",
              "<p>499 rows × 6 columns</p>\n",
              "</div>"
            ],
            "text/plain": [
              "                                                  text sentiment  \\\n",
              "0                What a great day!!! Looks like dream.  positive   \n",
              "1       I feel sorry, I miss you here in the sea beach  positive   \n",
              "2                                       Don't angry me  negative   \n",
              "3    We attend in the class just for listening teac...  negative   \n",
              "4                    Those who want to go, let them go  negative   \n",
              "..                                                 ...       ...   \n",
              "494  According to , a quarter of families under six...  negative   \n",
              "495      the plan to not spend money is not going well  negative   \n",
              "496    uploading all my bamboozle pictures of facebook   neutral   \n",
              "497   congratulations ! you guys finish a month ear...  positive   \n",
              "498   actually, I wish I was back in Tahoe.  I miss...  negative   \n",
              "\n",
              "    predicted_sentiment_nltk  prediction_correctness_nltk  \\\n",
              "0                   positive                            1   \n",
              "1                    neutral                            0   \n",
              "2                   positive                            0   \n",
              "3                    neutral                            0   \n",
              "4                    neutral                            0   \n",
              "..                       ...                          ...   \n",
              "494                 negative                            1   \n",
              "495                  neutral                            0   \n",
              "496                 negative                            0   \n",
              "497                 positive                            1   \n",
              "498                  neutral                            0   \n",
              "\n",
              "    predicted_sentiment_textblob  prediction_correctness_textblob  \n",
              "0                       positive                                1  \n",
              "1                       negative                                0  \n",
              "2                       negative                                1  \n",
              "3                        neutral                                0  \n",
              "4                        neutral                                0  \n",
              "..                           ...                              ...  \n",
              "494                      neutral                                0  \n",
              "495                      neutral                                0  \n",
              "496                      neutral                                1  \n",
              "497                      neutral                                0  \n",
              "498                      neutral                                0  \n",
              "\n",
              "[499 rows x 6 columns]"
            ]
          },
          "execution_count": 23,
          "metadata": {},
          "output_type": "execute_result"
        }
      ],
      "source": [
        "df"
      ]
    },
    {
      "cell_type": "code",
      "execution_count": null,
      "id": "4b89f9b1",
      "metadata": {
        "id": "4b89f9b1",
        "outputId": "be3a3dd7-e7fd-46c4-c71b-4b5277200996"
      },
      "outputs": [
        {
          "data": {
            "text/plain": [
              "1    283\n",
              "0    216\n",
              "Name: prediction_correctness_textblob, dtype: int64"
            ]
          },
          "execution_count": 24,
          "metadata": {},
          "output_type": "execute_result"
        }
      ],
      "source": [
        "df['prediction_correctness_textblob'].value_counts()"
      ]
    },
    {
      "cell_type": "code",
      "execution_count": null,
      "id": "86497656",
      "metadata": {
        "id": "86497656"
      },
      "outputs": [],
      "source": []
    }
  ],
  "metadata": {
    "kernelspec": {
      "display_name": "Python 3 (ipykernel)",
      "language": "python",
      "name": "python3"
    },
    "language_info": {
      "codemirror_mode": {
        "name": "ipython",
        "version": 3
      },
      "file_extension": ".py",
      "mimetype": "text/x-python",
      "name": "python",
      "nbconvert_exporter": "python",
      "pygments_lexer": "ipython3",
      "version": "3.11.5"
    },
    "varInspector": {
      "cols": {
        "lenName": 16,
        "lenType": 16,
        "lenVar": 40
      },
      "kernels_config": {
        "python": {
          "delete_cmd_postfix": "",
          "delete_cmd_prefix": "del ",
          "library": "var_list.py",
          "varRefreshCmd": "print(var_dic_list())"
        },
        "r": {
          "delete_cmd_postfix": ") ",
          "delete_cmd_prefix": "rm(",
          "library": "var_list.r",
          "varRefreshCmd": "cat(var_dic_list()) "
        }
      },
      "types_to_exclude": [
        "module",
        "function",
        "builtin_function_or_method",
        "instance",
        "_Feature"
      ],
      "window_display": false
    },
    "colab": {
      "provenance": [],
      "include_colab_link": true
    }
  },
  "nbformat": 4,
  "nbformat_minor": 5
}