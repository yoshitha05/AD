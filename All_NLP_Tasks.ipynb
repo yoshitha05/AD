{
  "cells": [
    {
      "cell_type": "markdown",
      "metadata": {
        "id": "view-in-github",
        "colab_type": "text"
      },
      "source": [
        "<a href=\"https://colab.research.google.com/github/yoshitha05/AD/blob/main/All_NLP_Tasks.ipynb\" target=\"_parent\"><img src=\"https://colab.research.google.com/assets/colab-badge.svg\" alt=\"Open In Colab\"/></a>"
      ]
    },
    {
      "cell_type": "markdown",
      "id": "5216183b",
      "metadata": {
        "id": "5216183b"
      },
      "source": [
        "### Word Tokenization"
      ]
    },
    {
      "cell_type": "code",
      "execution_count": null,
      "id": "7b84969b",
      "metadata": {
        "id": "7b84969b",
        "outputId": "270e961a-f4d1-42eb-ad32-042bafd635e7",
        "colab": {
          "base_uri": "https://localhost:8080/"
        }
      },
      "outputs": [
        {
          "output_type": "stream",
          "name": "stdout",
          "text": [
            "SpaCy Tokens: ['Hello', '!', 'How', 'are', 'you', '?', 'I', 'am', 'learning', 'NLP', '.', 'Welcome', 'to', 'U.S.A.']\n"
          ]
        }
      ],
      "source": [
        "import nltk\n",
        "import spacy\n",
        "\n",
        "text = \"Hello! How are you? I am learning NLP. Welcome to U.S.A. \"\n",
        "\n",
        "nlp = spacy.load(\"en_core_web_sm\")\n",
        "doc = nlp(text)\n",
        "spacy_tokens = [token.text for token in doc]\n",
        "\n",
        "# print(\"Word Tokens:\", word_tokens)\n",
        "# print(\"Sentence Tokens:\", sent_tokens)\n",
        "print(\"SpaCy Tokens:\", spacy_tokens)"
      ]
    },
    {
      "cell_type": "markdown",
      "id": "5131cd7d",
      "metadata": {
        "id": "5131cd7d"
      },
      "source": [
        "### Stop word removal"
      ]
    },
    {
      "cell_type": "code",
      "execution_count": null,
      "id": "e6af739f",
      "metadata": {
        "id": "e6af739f",
        "outputId": "825c01f1-50d1-4873-a19e-98f294eea35d",
        "colab": {
          "base_uri": "https://localhost:8080/"
        }
      },
      "outputs": [
        {
          "output_type": "stream",
          "name": "stdout",
          "text": [
            "SpaCy Filtered Words: ['Hello', '!', '?', 'learning', 'NLP', '.', 'Welcome', 'U.S.A.']\n"
          ]
        }
      ],
      "source": [
        "\n",
        "spacy_stopwords = [token.text for token in doc if not token.is_stop]\n",
        "\n",
        "print(\"SpaCy Filtered Words:\", spacy_stopwords)"
      ]
    },
    {
      "cell_type": "markdown",
      "id": "67a93168",
      "metadata": {
        "id": "67a93168"
      },
      "source": [
        "### Lemmatization"
      ]
    },
    {
      "cell_type": "code",
      "execution_count": null,
      "id": "ccb1a670",
      "metadata": {
        "id": "ccb1a670",
        "outputId": "81bafa71-03e2-4b1a-9d1e-e88004c05553",
        "colab": {
          "base_uri": "https://localhost:8080/"
        }
      },
      "outputs": [
        {
          "output_type": "stream",
          "name": "stdout",
          "text": [
            "Lemmatized Words: ['hello', '!', 'how', 'be', 'you', '?', 'I', 'be', 'learn', 'NLP', '.', 'welcome', 'to', 'U.S.A.']\n"
          ]
        }
      ],
      "source": [
        "# converts into root words based on given sentence\n",
        "lemmatized_words = [token.lemma_ for token in doc]\n",
        "\n",
        "print(\"Lemmatized Words:\", lemmatized_words)"
      ]
    },
    {
      "cell_type": "markdown",
      "id": "7cd89318",
      "metadata": {
        "id": "7cd89318"
      },
      "source": [
        "### Lower casr and Remove Punctuations"
      ]
    },
    {
      "cell_type": "code",
      "execution_count": null,
      "id": "9ef527c7",
      "metadata": {
        "id": "9ef527c7",
        "outputId": "dee06ced-2a90-48ca-cd65-54c0b918becc",
        "colab": {
          "base_uri": "https://localhost:8080/"
        }
      },
      "outputs": [
        {
          "output_type": "stream",
          "name": "stdout",
          "text": [
            "Cleaned Text: hello this is nlp  visit httpsexamplecom\n"
          ]
        }
      ],
      "source": [
        "# regex101.com - refer this website to get the sytax for any function\n",
        "\n",
        "import re\n",
        "\n",
        "text = \"Hello!! This is NLP 101. Visit https://example.com\"\n",
        "cleaned_text = re.sub(r'[^a-zA-Z\\s]', '', text)  # Remove non-alphabetic characters\n",
        "lower_text = cleaned_text.lower()\n",
        "\n",
        "print(\"Cleaned Text:\", lower_text)\n"
      ]
    },
    {
      "cell_type": "markdown",
      "id": "6a0ac363",
      "metadata": {
        "id": "6a0ac363"
      },
      "source": [
        "### parts of Speech"
      ]
    },
    {
      "cell_type": "code",
      "execution_count": null,
      "id": "6d27f705",
      "metadata": {
        "id": "6d27f705",
        "outputId": "f653718d-825e-4ddb-8d40-4fc05f1993ec",
        "colab": {
          "base_uri": "https://localhost:8080/"
        }
      },
      "outputs": [
        {
          "output_type": "stream",
          "name": "stdout",
          "text": [
            "Hello --> INTJ\n",
            "! --> PUNCT\n",
            "How --> SCONJ\n",
            "are --> AUX\n",
            "you --> PRON\n",
            "? --> PUNCT\n",
            "I --> PRON\n",
            "am --> AUX\n",
            "learning --> VERB\n",
            "NLP --> PROPN\n",
            ". --> PUNCT\n",
            "Welcome --> VERB\n",
            "to --> ADP\n",
            "U.S.A. --> PROPN\n"
          ]
        }
      ],
      "source": [
        "# When we perform pos, we should make sure that we must not do any preprocessing techniques\n",
        "\n",
        "for token in doc:\n",
        "    print(f\"{token.text} --> {token.pos_}\")"
      ]
    },
    {
      "cell_type": "markdown",
      "id": "b498637f",
      "metadata": {
        "id": "b498637f"
      },
      "source": [
        "### NER"
      ]
    },
    {
      "cell_type": "code",
      "execution_count": null,
      "id": "a4946e2d",
      "metadata": {
        "id": "a4946e2d",
        "outputId": "f0c83f6f-aaeb-4abc-ae2b-a2887c0eb798",
        "colab": {
          "base_uri": "https://localhost:8080/"
        }
      },
      "outputs": [
        {
          "output_type": "stream",
          "name": "stdout",
          "text": [
            "NLP --> ORG\n",
            "U.S.A. --> GPE\n"
          ]
        }
      ],
      "source": [
        "# used for getting entities in a project\n",
        "# Using spacy/nltk/pipelines we can get NER\n",
        "\n",
        "for ent in doc.ents:\n",
        "    print(f\"{ent.text} --> {ent.label_}\")"
      ]
    },
    {
      "cell_type": "markdown",
      "id": "a2e33063",
      "metadata": {
        "id": "a2e33063"
      },
      "source": [
        "### Word2Vec Embeddings"
      ]
    },
    {
      "cell_type": "code",
      "execution_count": null,
      "id": "2eee615b",
      "metadata": {
        "id": "2eee615b"
      },
      "outputs": [],
      "source": [
        "from gensim.models import Word2Vec\n",
        "from gensim.test.utils import common_texts\n",
        "\n",
        "\n",
        "# model = Word2Vec(sentences=common_texts, vector_size=2, window=5, min_count=1, workers=4)\n",
        "model = Word2Vec(sentences=common_texts, vector_size=10, window=5, min_count=1, workers=4)\n"
      ]
    },
    {
      "cell_type": "code",
      "source": [
        "common_texts"
      ],
      "metadata": {
        "id": "xsJSE_zc1Vlr",
        "outputId": "7f163e2b-4364-4c77-9580-cdd778960f89",
        "colab": {
          "base_uri": "https://localhost:8080/"
        }
      },
      "id": "xsJSE_zc1Vlr",
      "execution_count": null,
      "outputs": [
        {
          "output_type": "execute_result",
          "data": {
            "text/plain": [
              "[['human', 'interface', 'computer'],\n",
              " ['survey', 'user', 'computer', 'system', 'response', 'time'],\n",
              " ['eps', 'user', 'interface', 'system'],\n",
              " ['system', 'human', 'system', 'eps'],\n",
              " ['user', 'response', 'time'],\n",
              " ['trees'],\n",
              " ['graph', 'trees'],\n",
              " ['graph', 'minors', 'trees'],\n",
              " ['graph', 'minors', 'survey']]"
            ]
          },
          "metadata": {},
          "execution_count": 12
        }
      ]
    },
    {
      "cell_type": "markdown",
      "id": "5b1e4013",
      "metadata": {
        "id": "5b1e4013"
      },
      "source": [
        "#### Embeddings for a word"
      ]
    },
    {
      "cell_type": "code",
      "execution_count": null,
      "id": "a9e71c4d",
      "metadata": {
        "id": "a9e71c4d",
        "outputId": "51d5c601-dc98-4b33-e833-53095eceac24",
        "colab": {
          "base_uri": "https://localhost:8080/"
        }
      },
      "outputs": [
        {
          "output_type": "stream",
          "name": "stdout",
          "text": [
            "Vector for 'computer': [ 0.0163195   0.00189972  0.03474648  0.00217841  0.09621626  0.05062076\n",
            " -0.08919986 -0.0704361   0.00901718  0.06394394]\n"
          ]
        }
      ],
      "source": [
        "print(\"Vector for 'computer':\", model.wv['computer'])\n",
        "# print(\"Vector for 'computer':\", model.wv['King'])"
      ]
    },
    {
      "cell_type": "markdown",
      "id": "ed8624bb",
      "metadata": {
        "id": "ed8624bb"
      },
      "source": [
        "#### Most similar words"
      ]
    },
    {
      "cell_type": "code",
      "execution_count": null,
      "id": "70d155c3",
      "metadata": {
        "id": "70d155c3",
        "outputId": "8de8e09c-fe32-4b53-a345-62c14be2660a",
        "colab": {
          "base_uri": "https://localhost:8080/"
        }
      },
      "outputs": [
        {
          "output_type": "stream",
          "name": "stdout",
          "text": [
            "Most similar words to 'computer': [('computer', 0.2914133369922638), ('survey', 0.27556222677230835), ('minors', 0.24953821301460266), ('interface', 0.22391675412654877), ('user', 0.09277458488941193), ('response', -0.02176876738667488), ('time', -0.042645372450351715), ('human', -0.060954876244068146), ('trees', -0.15169012546539307), ('system', -0.2726021111011505)]\n"
          ]
        }
      ],
      "source": [
        "print(\"Most similar words to 'computer':\", model.wv.most_similar('eps'))"
      ]
    },
    {
      "cell_type": "markdown",
      "id": "31d2f1fc",
      "metadata": {
        "id": "31d2f1fc"
      },
      "source": [
        "#### Visualizing closest words"
      ]
    },
    {
      "cell_type": "code",
      "execution_count": null,
      "id": "9f24c06a",
      "metadata": {
        "id": "9f24c06a",
        "outputId": "ec0e3898-c49f-439c-fd86-2d20c47b51ef",
        "colab": {
          "base_uri": "https://localhost:8080/",
          "height": 718
        }
      },
      "outputs": [
        {
          "output_type": "display_data",
          "data": {
            "text/plain": [
              "<Figure size 1000x800 with 1 Axes>"
            ],
            "image/png": "[encoded data removed]"
          },
          "metadata": {}
        }
      ],
      "source": [
        "import matplotlib.pyplot as plt\n",
        "from nltk.corpus import stopwords\n",
        "from nltk.tokenize import word_tokenize\n",
        "from gensim.models import Word2Vec\n",
        "from sklearn.decomposition import PCA\n",
        "\n",
        "\n",
        "word_vectors = model.wv[model.wv.index_to_key]  # Get the word vectors\n",
        "pca = PCA(n_components=2)  # Initialize PCA\n",
        "result = pca.fit_transform(word_vectors)  # Fit and transform the word vectors\n",
        "\n",
        "\n",
        "plt.figure(figsize=(10, 8))\n",
        "plt.scatter(result[:, 0], result[:, 1])\n",
        "\n",
        "\n",
        "words = list(model.wv.index_to_key)\n",
        "for i, word in enumerate(words):\n",
        "    plt.annotate(word, xy=(result[i, 0], result[i, 1]), fontsize=12)\n",
        "\n",
        "plt.title(\"Word Embeddings Visualization\")\n",
        "plt.xlabel(\"PCA Component 1\")\n",
        "plt.ylabel(\"PCA Component 2\")\n",
        "plt.grid()\n",
        "plt.show()"
      ]
    },
    {
      "cell_type": "code",
      "execution_count": null,
      "id": "18faf036",
      "metadata": {
        "id": "18faf036"
      },
      "outputs": [],
      "source": []
    }
  ],
  "metadata": {
    "kernelspec": {
      "display_name": "Python 3",
      "name": "python3"
    },
    "language_info": {
      "codemirror_mode": {
        "name": "ipython",
        "version": 3
      },
      "file_extension": ".py",
      "mimetype": "text/x-python",
      "name": "python",
      "nbconvert_exporter": "python",
      "pygments_lexer": "ipython3",
      "version": "3.11.5"
    },
    "varInspector": {
      "cols": {
        "lenName": 16,
        "lenType": 16,
        "lenVar": 40
      },
      "kernels_config": {
        "python": {
          "delete_cmd_postfix": "",
          "delete_cmd_prefix": "del ",
          "library": "var_list.py",
          "varRefreshCmd": "print(var_dic_list())"
        },
        "r": {
          "delete_cmd_postfix": ") ",
          "delete_cmd_prefix": "rm(",
          "library": "var_list.r",
          "varRefreshCmd": "cat(var_dic_list()) "
        }
      },
      "types_to_exclude": [
        "module",
        "function",
        "builtin_function_or_method",
        "instance",
        "_Feature"
      ],
      "window_display": false
    },
    "colab": {
      "provenance": [],
      "gpuType": "T4",
      "include_colab_link": true
    },
    "accelerator": "GPU"
  },
  "nbformat": 4,
  "nbformat_minor": 5
}