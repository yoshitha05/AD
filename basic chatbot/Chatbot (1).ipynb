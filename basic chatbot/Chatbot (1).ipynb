{
 "cells": [
  {
   "cell_type": "code",
   "execution_count": 2,
   "id": "21b373f6-a255-4bf5-9b1d-23cb9fb8a03d",
   "metadata": {},
   "outputs": [],
   "source": [
    "def lowercase(sentence):\n",
    "  # if\n",
    "  return sentence.lower()\n",
    "  # else\n",
    "# As soon as it reaches return statement it doesn't the line below return statement"
   ]
  },
  {
   "cell_type": "code",
   "execution_count": 4,
   "id": "d65e6726-d5d3-4048-b78d-76defd8ccf4a",
   "metadata": {},
   "outputs": [],
   "source": [
    "def uppercase(sentence):\n",
    "  return sentence.upper()"
   ]
  },
  {
   "cell_type": "code",
   "execution_count": 18,
   "id": "c7744bd0-f59a-45ad-afd3-f24a1e81c250",
   "metadata": {},
   "outputs": [],
   "source": [
    "def swap_case(sentence):\n",
    "  result = \"\"\n",
    "  for char in sentence:\n",
    "    if char.isupper():\n",
    "      result = result + char.lower()\n",
    "    else:\n",
    "      result = result + char.upper() \n",
    "  return result"
   ]
  },
  {
   "cell_type": "code",
   "execution_count": 20,
   "id": "69d84f55-9715-4bc9-b966-49f2f6997649",
   "metadata": {},
   "outputs": [
    {
     "name": "stdin",
     "output_type": "stream",
     "text": [
      "enter text euwheoudhwoQWIODHEOIHDOIdhiwd\n",
      "Enter 1 or 2 or 3:  3\n"
     ]
    },
    {
     "name": "stdout",
     "output_type": "stream",
     "text": [
      "EUWHEOUDHWOqwiodheoihdoiDHIWD\n"
     ]
    },
    {
     "name": "stdin",
     "output_type": "stream",
     "text": [
      "enter text:  hhdoiehdiqhwQISOIQIOHDIO\n",
      "Enter 1 or 2 or 3:  2\n"
     ]
    },
    {
     "name": "stdout",
     "output_type": "stream",
     "text": [
      "HHDOIEHDIQHWQISOIQIOHDIO\n"
     ]
    },
    {
     "name": "stdin",
     "output_type": "stream",
     "text": [
      "enter text:  shquhwsuqhwosqhhWISJIJSIQSOHIDHIWHSIWHD\n",
      "Enter 1 or 2 or 3:  1\n"
     ]
    },
    {
     "name": "stdout",
     "output_type": "stream",
     "text": [
      "shquhwsuqhwosqhhwisjijsiqsohidhiwhsiwhd\n"
     ]
    },
    {
     "name": "stdin",
     "output_type": "stream",
     "text": [
      "enter text:  esc\n"
     ]
    }
   ],
   "source": [
    "word = input('enter text')\n",
    "end_words = ['stop','exit','esc']\n",
    "while word not in end_words:\n",
    "  choice = input(\"Enter 1 or 2 or 3: \")\n",
    "  if choice == '1':\n",
    "    print(lowercase(word))\n",
    "  elif choice == '2':\n",
    "    print(uppercase(word))\n",
    "  elif choice == '3':\n",
    "    print(swap_case(word))\n",
    "  else:\n",
    "    print('invalid choice')\n",
    "  word = input('enter text: ')"
   ]
  },
  {
   "cell_type": "code",
   "execution_count": null,
   "id": "fc53d951-171f-4e56-b66b-46eb37bdc48b",
   "metadata": {},
   "outputs": [],
   "source": []
  }
 ],
 "metadata": {
  "kernelspec": {
   "display_name": "Python [conda env:anaconda3]",
   "language": "python",
   "name": "conda-env-anaconda3-py"
  },
  "language_info": {
   "codemirror_mode": {
    "name": "ipython",
    "version": 3
   },
   "file_extension": ".py",
   "mimetype": "text/x-python",
   "name": "python",
   "nbconvert_exporter": "python",
   "pygments_lexer": "ipython3",
   "version": "3.12.7"
  }
 },
 "nbformat": 4,
 "nbformat_minor": 5
}
